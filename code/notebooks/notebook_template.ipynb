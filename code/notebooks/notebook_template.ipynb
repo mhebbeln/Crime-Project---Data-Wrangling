{
 "cells": [
  {
   "cell_type": "markdown",
   "id": "26aaf486-0028-4b9e-80e1-066f4acf6b46",
   "metadata": {},
   "source": [
    "# Project Name 1 "
   ]
  },
  {
   "cell_type": "markdown",
   "id": "bc1e844c-b8b2-4f76-8aa0-b2400a658c4e",
   "metadata": {},
   "source": [
    "**Author:** Luke Truesdale\n",
    "\n",
    "**Last Modified:** 11-17-2024 (Created: 11/17/2024)\n",
    "\n",
    "**Description:** Short paragraph explaining this project. "
   ]
  },
  {
   "cell_type": "markdown",
   "id": "1b390cae-376f-4286-a9fb-e0b7459e5463",
   "metadata": {},
   "source": [
    "<br>"
   ]
  },
  {
   "cell_type": "markdown",
   "id": "6ed73e91-c6b6-4412-a0ce-65dabe67da3a",
   "metadata": {},
   "source": [
    "Import libraries:"
   ]
  },
  {
   "cell_type": "code",
   "execution_count": 5,
   "id": "fc62ff4a-2d48-4adf-895b-2780c1edc9d4",
   "metadata": {},
   "outputs": [],
   "source": [
    "import pandas as pd "
   ]
  },
  {
   "cell_type": "markdown",
   "id": "a1fff6e7-127a-4ff7-88bc-498fbbd2f13d",
   "metadata": {},
   "source": [
    "<br>"
   ]
  },
  {
   "cell_type": "markdown",
   "id": "315eb3ac-dc16-43a2-a115-081fcb8fc007",
   "metadata": {},
   "source": [
    "Load data:"
   ]
  },
  {
   "cell_type": "code",
   "execution_count": null,
   "id": "d5d272cc-2cf0-41f3-b984-ec1adfb94829",
   "metadata": {},
   "outputs": [],
   "source": [
    "# Read the CSV file\n",
    "input_file = \"input_file.csv\"  # Replace with the path to your input file\n",
    "data = pd.read_csv(input_file)\n",
    "\n",
    "# Display the first few rows (optional)\n",
    "print(data.head())"
   ]
  },
  {
   "cell_type": "markdown",
   "id": "d69d551d-5e55-400d-985b-c9ea5038d528",
   "metadata": {},
   "source": [
    "Enter code for changes to data below: "
   ]
  },
  {
   "cell_type": "code",
   "execution_count": null,
   "id": "222baa47-4fd3-48c0-95ca-b9fce597739b",
   "metadata": {},
   "outputs": [],
   "source": []
  },
  {
   "cell_type": "markdown",
   "id": "2fb64a5a-6454-4535-bc48-9a43a6c0f2a8",
   "metadata": {},
   "source": [
    "Saving Data: "
   ]
  },
  {
   "cell_type": "code",
   "execution_count": null,
   "id": "4dfb3ad5-2e18-43fb-99a3-0c37b093b9b5",
   "metadata": {},
   "outputs": [],
   "source": [
    "# Save the data to a new CSV file\n",
    "output_file = \"output_file.csv\"  # Replace with the desired output file name\n",
    "data.to_csv(output_file, index=False)\n",
    "\n",
    "print(f\"File saved successfully to {output_file}\")"
   ]
  },
  {
   "cell_type": "code",
   "execution_count": null,
   "id": "83ea395e-c54d-424d-8518-1b2943ca17f2",
   "metadata": {},
   "outputs": [],
   "source": []
  },
  {
   "cell_type": "code",
   "execution_count": null,
   "id": "37e2fa10-7709-49c5-aeb1-96466596e6dd",
   "metadata": {},
   "outputs": [],
   "source": []
  }
 ],
 "metadata": {
  "kernelspec": {
   "display_name": "Python 3 (ipykernel)",
   "language": "python",
   "name": "python3"
  },
  "language_info": {
   "codemirror_mode": {
    "name": "ipython",
    "version": 3
   },
   "file_extension": ".py",
   "mimetype": "text/x-python",
   "name": "python",
   "nbconvert_exporter": "python",
   "pygments_lexer": "ipython3",
   "version": "3.12.4"
  }
 },
 "nbformat": 4,
 "nbformat_minor": 5
}
